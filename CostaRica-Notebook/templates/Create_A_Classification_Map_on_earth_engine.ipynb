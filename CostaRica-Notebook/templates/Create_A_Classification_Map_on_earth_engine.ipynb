{
 "cells": [
  {
   "cell_type": "markdown",
   "metadata": {},
   "source": [
    "# Creating a classification map on Google earth engine\n",
    "In this notebook we will use Google Earth Engine to perform a classification. Google earth engine is a great resource for accessing and processing data. However, there are various quotas that limit the amount of processing and RAM you can use for free. To address some of thees limitation we will be using random subsets of our data and reduce the complexity of our models. "
   ]
  },
  {
   "cell_type": "code",
   "execution_count": null,
   "metadata": {},
   "outputs": [],
   "source": [
    "#import packages\n",
    "import geopandas as gpd, pandas as pd, os, numpy as np\n",
    "import ee, geemap\n",
    "from geemap import ml"
   ]
  },
  {
   "cell_type": "markdown",
   "metadata": {},
   "source": [
    "### Authenticate into Earth Engine"
   ]
  },
  {
   "cell_type": "code",
   "execution_count": null,
   "metadata": {},
   "outputs": [],
   "source": [
    "# Trigger the authentication flow.\n",
    "ee.Authenticate()\n",
    "\n",
    "# Initialize the library.\n",
    "ee.Initialize(project='ee-jshogland') #you will want to select your personal cloud project"
   ]
  },
  {
   "cell_type": "markdown",
   "metadata": {},
   "source": [
    "## Create definitions for the median and medoid procedures"
   ]
  },
  {
   "cell_type": "code",
   "execution_count": null,
   "metadata": {},
   "outputs": [],
   "source": [
    "def maskL8sr(image):\n",
    "    # Bit 0 - Fill\n",
    "    # Bit 1 - Dilated Cloud\n",
    "    # Bit 2 - Cirrus\n",
    "    # Bit 3 - Cloud\n",
    "    # Bit 4 - Cloud Shadow\n",
    "    qaMask = image.select('QA_PIXEL').bitwiseAnd(int('11111', 2)).eq(0)\n",
    "    saturationMask = image.select('QA_RADSAT').eq(0)\n",
    "    # Apply the scaling factors to the appropriate bands.\n",
    "    opticalBands = image.select('SR_B.').multiply(0.0000275).add(-0.2)\n",
    "    thermalBands = image.select('ST_B.*').multiply(0.00341802).add(149.0)\n",
    "    #Replace the original bands with the scaled ones and apply the masks.\n",
    "    return image.addBands(opticalBands, overwrite=True).addBands(thermalBands, overwrite=True).updateMask(qaMask).updateMask(saturationMask)\n",
    "\n",
    "def median_mosaic(image,fltr=None,refl_bands=['BLUE', 'GREEN', 'RED', 'NIR', 'SWIR1', 'SWIR2']):\n",
    "    if(fltr is None):\n",
    "        inCollection = image.filter(fltr).select(refl_bands)\n",
    "    else:\n",
    "        inCollection = image.filter(fltr).select(refl_bands)\n",
    "\n",
    "    return inCollection.median()\n",
    "\n",
    "def _medoid(col):\n",
    "    median = ee.ImageCollection(col).median()\n",
    "    diff=ee.Image(col).subtract(median).pow(ee.Image.constant(2))\n",
    "    return diff.reduce('sum').addBands(col)\n",
    "\n",
    "\n",
    "def medoid_mosaic(image, fltr,refl_bands=['BLUE', 'GREEN', 'RED', 'NIR', 'SWIR1', 'SWIR2']):\n",
    "    if(fltr is None):\n",
    "        inCollection = image.filter(fltr).select(refl_bands)\n",
    "    else:\n",
    "        inCollection = image.filter(fltr).select(refl_bands)\n",
    "\n",
    "    medoid = inCollection.map(_medoid)\n",
    "    medoid = ee.ImageCollection(medoid).reduce(ee.Reducer.min(7)).select([1,2,3,4,5,6], refl_bands)\n",
    "    return medoid\n",
    "\n"
   ]
  },
  {
   "cell_type": "markdown",
   "metadata": {},
   "source": [
    "## Set various variable and create the medoid surface on ee"
   ]
  },
  {
   "cell_type": "code",
   "execution_count": null,
   "metadata": {},
   "outputs": [],
   "source": [
    "#make lists fo band names for selections\n",
    "lc8_bands = ['SR_B2', 'SR_B3', 'SR_B4', 'SR_B5', 'SR_B6', 'SR_B7', 'ST_B10', 'QA_PIXEL']#landsat band names\n",
    "tgt_bands = ['BLUE', 'GREEN', 'RED', 'NIR', 'SWIR1', 'SWIR2', 'TEMP', 'QA_PIXEL']#common band names\n",
    "refl_bands = ['BLUE', 'GREEN', 'RED', 'NIR', 'SWIR1', 'SWIR2']#bands we care about\n",
    "\n",
    "#specify start and end dates for the image filter\n",
    "startDate = '2021-01-01'\n",
    "endDate = '2024-07-01'\n",
    "\n",
    "#Specify julian dates for filter. Here we want to select sunny months\n",
    "julianStart1 = 350# Starting Julian Date (for landsat median cloud free )\n",
    "julianEnd1 = 365\n",
    "julianStart2 = 1\n",
    "julianEnd2 = 150# Ending Julian date (for landsat median cloud free)\n",
    "\n",
    "#define the study area extent from our convex hull\n",
    "#geo=geemap.gdf_to_ee(gpd.GeoDataFrame(geometry=chul)) #convert our convex hull into a ee feature class object\n",
    "\n",
    "#make the ee collection\n",
    "l8_col=ee.ImageCollection('LANDSAT/LC08/C02/T1_L2')\n",
    "\n",
    "#set various filters\n",
    "#f_bnds=ee.Filter.bounds(geometry=geo)\n",
    "f_date=ee.Filter.date(startDate,endDate)\n",
    "f_cr1=ee.Filter.calendarRange(julianStart1,julianEnd1)\n",
    "f_cr2=ee.Filter.calendarRange(julianStart2,julianEnd2)\n",
    "f_or=ee.Filter.Or(f_cr1,f_cr2)\n",
    "f_and=ee.Filter.And(f_date,f_or)\n",
    "\n",
    "#use our filter on the landsat collection\n",
    "l8=l8_col.filter(f_and).map(maskL8sr)\n",
    "l8r=l8.select(lc8_bands,tgt_bands)\n",
    "\n",
    "#call the medoid function\n",
    "medoid = medoid_mosaic(l8r,fltr=f_and,refl_bands=refl_bands)\n",
    "\n",
    "#get the elevation data\n",
    "dem = ee.Image(\"USGS/SRTMGL1_003\")\n",
    "\n",
    "#Create Raster Predictors\n",
    "pred_rs=ee.Image([medoid,dem])"
   ]
  },
  {
   "cell_type": "markdown",
   "metadata": {},
   "source": [
    "## Make Random Forest Model\n",
    "#### Make the sklearn model and convert it into a google earth engine model\n",
    "We will be using our cleaned data. If you have not already worked through the [Summarizing plot data](./Summarizing_plot_data.ipynb) notebook, please do so before continuing. Our response and predictor variables are as follows:-\n",
    "- response = Use2\n",
    "- predictors = ['BLUE', 'GREEN', 'RED', 'NIR', 'SWIR1', 'SWIR2','elevation']"
   ]
  },
  {
   "cell_type": "code",
   "execution_count": null,
   "metadata": {},
   "outputs": [],
   "source": [
    "from sklearn.ensemble import RandomForestClassifier\n",
    "\n",
    "df=pd.read_csv('./plot_subplot_data.csv')\n",
    "resp='Use2'\n",
    "pred=['BLUE', 'GREEN', 'RED', 'NIR', 'SWIR1', 'SWIR2','elevation']\n",
    "\n",
    "#mapping to integers\n",
    "uvls=df['Use'].unique()\n",
    "cdic=dict(zip(uvls,np.arange(uvls.shape[0])))\n",
    "df['Use2']=df['Use'].map(cdic)\n",
    "\n",
    "#subset the data to send the model to Google EE\n",
    "ss=int(df.shape[0]*0.1)\n",
    "sdf=df.sample(ss)\n",
    "X=sdf[pred]\n",
    "y=sdf[resp]\n",
    "\n",
    "rf=RandomForestClassifier(n_estimators=10,max_samples=0.75,random_state=0,oob_score=True) # reduce the number of models for ee\n",
    "rf.fit(X,y)\n",
    "print('Label Dictionary:')\n",
    "display(cdic)\n",
    "print('OOB = ',rf.oob_score_)"
   ]
  },
  {
   "cell_type": "markdown",
   "metadata": {},
   "source": [
    "### Convert the sklearn model to strings to upload into a classifier using Geemap's ml module"
   ]
  },
  {
   "cell_type": "code",
   "execution_count": null,
   "metadata": {},
   "outputs": [],
   "source": [
    "rf_str=ml.rf_to_strings(rf,pred)"
   ]
  },
  {
   "cell_type": "markdown",
   "metadata": {},
   "source": [
    "### Convert the strings into a ee classifier using Geemap's ml module"
   ]
  },
  {
   "cell_type": "code",
   "execution_count": null,
   "metadata": {},
   "outputs": [],
   "source": [
    "clsf=ml.strings_to_classifier(rf_str)"
   ]
  },
  {
   "cell_type": "markdown",
   "metadata": {},
   "source": [
    "### Create the ee classified imgage using Earth Engine functions"
   ]
  },
  {
   "cell_type": "code",
   "execution_count": null,
   "metadata": {},
   "outputs": [],
   "source": [
    "classified = pred_rs.select(pred).classify(clsf)"
   ]
  },
  {
   "cell_type": "markdown",
   "metadata": {},
   "source": [
    "## Visualize the Medoid image and classification"
   ]
  },
  {
   "cell_type": "code",
   "execution_count": null,
   "metadata": {},
   "outputs": [],
   "source": [
    "Map = geemap.Map()\n",
    "\n",
    "Map.set_center(lon=-83.7534,lat=9.7489,zoom=8)\n",
    "\n",
    "Map.addLayer(\n",
    "    pred_rs,\n",
    "    {\"bands\": [\"RED\", \"GREEN\", \"BLUE\"], \"min\": 0, \"max\": 0.25, \"gamma\": 1.5},\n",
    "    \"Medoid\",\n",
    ")\n",
    "Map.addLayer(\n",
    "    classified,\n",
    "    {\"min\": 0, \"max\": 7, \"palette\": [\"green\", \"tan\", \"blue\",\"white\",\"yellow\",\"lightgreen\",\"grey\",\"grey\"]},\n",
    "    \"classification\",\n",
    ")\n",
    "\n",
    "Map"
   ]
  },
  {
   "cell_type": "markdown",
   "metadata": {},
   "source": [
    "## Exercise 1: Processing\n",
    "- Where did we create the random forest model? (google server or locally)\n",
    "- Where did we create the imagery? (google server or locally)\n",
    "- Where did we extract the point data? (google server or locally)\n",
    "- Why did we subset our data?\n",
    "- How did we transfer our random forest model to google earth engine?\n",
    "- How are we processing the imagery on Google Earth Engine yet we are able to see it on our local machine (we are not using a web browser)?\n",
    "- How could we save this map as an HTML file?\n",
    "- How accurate is our map?\n"
   ]
  }
 ],
 "metadata": {
  "kernelspec": {
   "display_name": "rstools",
   "language": "python",
   "name": "python3"
  },
  "language_info": {
   "codemirror_mode": {
    "name": "ipython",
    "version": 3
   },
   "file_extension": ".py",
   "mimetype": "text/x-python",
   "name": "python",
   "nbconvert_exporter": "python",
   "pygments_lexer": "ipython3",
   "version": "3.10.16"
  }
 },
 "nbformat": 4,
 "nbformat_minor": 2
}
