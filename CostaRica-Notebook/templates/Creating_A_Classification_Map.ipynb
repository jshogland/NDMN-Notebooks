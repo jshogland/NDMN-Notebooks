{
 "cells": [
  {
   "cell_type": "markdown",
   "metadata": {},
   "source": [
    "# Creating a classification map\n",
    "### Let's build a Random forest model using only the subset imagery and interpreted responses within the boundary of the imagery. If you have not worked through the [Getting the imagery](./GettingTheImagery.ipynb) or the [Summarizing plot data](./Summarizing_plot_data.ipynb), please do so before working through this notebook.\n",
    "\n",
    "## Import packages"
   ]
  },
  {
   "cell_type": "code",
   "execution_count": null,
   "metadata": {},
   "outputs": [],
   "source": [
    "from raster_tools import Raster, focal, zonal, general\n",
    "import geopandas as gpd, shapely, pandas as pd, numpy as np"
   ]
  },
  {
   "cell_type": "markdown",
   "metadata": {},
   "source": [
    "## Get the data"
   ]
  },
  {
   "cell_type": "code",
   "execution_count": null,
   "metadata": {},
   "outputs": [],
   "source": [
    "df=pd.read_csv('./plot_subplot_data.csv')\n",
    "gdf=gpd.GeoDataFrame(df,geometry=gpd.GeoSeries.from_wkt(df['geometry']),crs=4326)\n",
    "rs=Raster('./medoid_subset.tif')"
   ]
  },
  {
   "cell_type": "markdown",
   "metadata": {},
   "source": [
    "### Subset the points to the boundary of the image and just the image values"
   ]
  },
  {
   "cell_type": "code",
   "execution_count": null,
   "metadata": {},
   "outputs": [],
   "source": [
    "#get the boundary of the  image\n",
    "img_bnd=gpd.GeoSeries(shapely.box(*rs.bounds),crs=rs.crs)\n",
    "\n",
    "#features needed Use and medoid \n",
    "n_clms=['plotid', 'sampleid', 'Use', 'BLUE','GREEN', 'NIR', 'RED', 'SWIR1', 'SWIR2','geometry']\n",
    "\n",
    "#get all points inside the boundary\n",
    "pint=gdf.loc[gdf.intersects(img_bnd.to_crs(gdf.crs).unary_union)].to_crs(rs.crs)[n_clms]\n",
    " \n",
    "#explore the plot subplot\n",
    "pint.explore()"
   ]
  },
  {
   "cell_type": "markdown",
   "metadata": {},
   "source": [
    "### Get the response and predictor columns and create a train and validate datasets (75%)"
   ]
  },
  {
   "cell_type": "code",
   "execution_count": null,
   "metadata": {},
   "outputs": [],
   "source": [
    "from sklearn.model_selection import train_test_split\n",
    "\n",
    "#convert labels in Use to integers for mapping\n",
    "uvls=pint['Use'].unique()\n",
    "cdic=dict(zip(uvls,np.arange(uvls.shape[0])))\n",
    "pint['Use2']=pint['Use'].map(cdic)\n",
    "print(cdic)\n",
    "\n",
    "#specify respons and predictor features\n",
    "resp='Use2'\n",
    "prednm=['BLUE','GREEN', 'NIR', 'RED', 'SWIR1', 'SWIR2']\n",
    "\n",
    "p=0.75\n",
    "train,val=train_test_split(pint,train_size=p,random_state=0)"
   ]
  },
  {
   "cell_type": "markdown",
   "metadata": {},
   "source": [
    "### Create a random forest model for the Use feature, estimate overall accuracy from the OOB and validation dataset, and create a confusion matrix with class cell frequencies."
   ]
  },
  {
   "cell_type": "code",
   "execution_count": null,
   "metadata": {},
   "outputs": [],
   "source": [
    "from sklearn.ensemble import RandomForestClassifier\n",
    "from sklearn.metrics import ConfusionMatrixDisplay\n",
    "\n",
    "#make the random forest classifier model\n",
    "rf=RandomForestClassifier(max_samples=0.80,oob_score=True,random_state=0) #split the data into 80% for training and 20% for testing (max_sample)\n",
    "\n",
    "#get the data\n",
    "X=train[prednm]\n",
    "X2=val[prednm]\n",
    "y=train[resp]\n",
    "y2=val[resp]\n",
    "\n",
    "#fit the model\n",
    "rf.fit(X.values,y.values)\n",
    "\n",
    "#look at map overall accuracy\n",
    "print('obb = ',rf.oob_score_)\n",
    "pred=rf.predict(X2.values)\n",
    "oa=(pred==y2.values).sum()/y2.shape[0]\n",
    "print('val = ',oa)\n",
    "print('Sample size =',y2.shape[0])\n",
    "\n",
    "#create a confusion matrix\n",
    "ConfusionMatrixDisplay.from_predictions(y2.values,pred,cmap='plasma')"
   ]
  },
  {
   "cell_type": "markdown",
   "metadata": {},
   "source": [
    "### Create a map of predicted labels and plot the map and the medoid rgb image.\n",
    "Here we will be using Raster Tools' model predict function to create the use cover map from the model and medoid image."
   ]
  },
  {
   "cell_type": "code",
   "execution_count": null,
   "metadata": {},
   "outputs": [],
   "source": [
    "cl_rs=rs.model_predict(rf,1)\n",
    "\n",
    "colors={0:'green',1:'yellow',2:'tan',3:'white',4:'grey'} #used to give a specific color to each integer\n",
    "cl_rs.plot(levels=list(colors.keys()),colors=list(colors.values()),figsize=(15,8))\n",
    "rs.get_bands([3,2,1]).xdata.plot.imshow(figsize=(12,8),robust=True)\n"
   ]
  },
  {
   "cell_type": "markdown",
   "metadata": {},
   "source": [
    "## Exercise 1: Interpreting the results\n",
    "- Why did we have to convert our Use labels to integers?\n",
    "- What was the oob and validation overall map accuracies?\n",
    "- What does overall map accuracy mean?\n",
    "- How is the oob value calculated?\n",
    "- What does the confusion matrix tell us?\n",
    "- Why does our map predict forest in the ocean?"
   ]
  },
  {
   "cell_type": "markdown",
   "metadata": {},
   "source": [
    "## A random forest model can also estimate the proportion of models that labeled a given class for each observation. Let's turn those proportions into a map\n",
    "Here we will use the ModelPredictAdaptor function to select the predict_proba function in the random forest model and then use the Raster Tools model predict function. "
   ]
  },
  {
   "cell_type": "code",
   "execution_count": null,
   "metadata": {},
   "outputs": [],
   "source": [
    "mdl=general.ModelPredictAdaptor(rf,'predict_proba')\n",
    "pr_rs=rs.model_predict(mdl,rf.n_classes_)"
   ]
  },
  {
   "cell_type": "markdown",
   "metadata": {},
   "source": [
    "### Let's plot out each proportion surface."
   ]
  },
  {
   "cell_type": "code",
   "execution_count": null,
   "metadata": {},
   "outputs": [],
   "source": [
    "print('label:band =',dict(zip(list(cdic.keys()),np.array(list(cdic.values()))+1)))\n",
    "pr_rs.plot(x='x',y='y',col='band',col_wrap=2,figsize=(15,12),robust=True,cmap='PRGn')"
   ]
  },
  {
   "cell_type": "markdown",
   "metadata": {},
   "source": [
    "## Exercise 2: Interpreting the results 2\n",
    "- What do these surfaces mean?\n",
    "- Could you use these surfaces to create the labeled map?\n",
    "- What rule is being used to create the labeled map?\n",
    "- What value would you get if you added each surface together?\n",
    "- How many plots/subplots did we have in the ocean?\n",
    "- If each cell has a proportion estimate then how variable are those estimates?\n",
    "- Task: Downloading the entire medoid image, use all the data plots/subplots, create a model, and create a labeled map with overall map accuracy and a confusion matrix."
   ]
  }
 ],
 "metadata": {
  "kernelspec": {
   "display_name": "rstools",
   "language": "python",
   "name": "python3"
  },
  "language_info": {
   "codemirror_mode": {
    "name": "ipython",
    "version": 3
   },
   "file_extension": ".py",
   "mimetype": "text/x-python",
   "name": "python",
   "nbconvert_exporter": "python",
   "pygments_lexer": "ipython3",
   "version": "3.10.16"
  }
 },
 "nbformat": 4,
 "nbformat_minor": 2
}
