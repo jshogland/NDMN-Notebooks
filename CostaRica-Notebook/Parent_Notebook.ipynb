{
 "cells": [
  {
   "cell_type": "markdown",
   "metadata": {},
   "source": [
    "# Costa Rica Pipeline PARENT Notebook\n",
    "\n",
    "## Notebook sections:\n",
    "1. Setup\n",
    "2. Data Acquisition / Cleaning\n",
    "3. Utilizing ML Models\n",
    "4. Maps / Visualizations / Documentation"
   ]
  },
  {
   "cell_type": "markdown",
   "metadata": {},
   "source": [
    "## Section 1 - Setup"
   ]
  },
  {
   "cell_type": "markdown",
   "metadata": {},
   "source": [
    "### Section 1.1 - Installing software and importing packages"
   ]
  },
  {
   "cell_type": "code",
   "execution_count": null,
   "metadata": {},
   "outputs": [
    {
     "name": "stdout",
     "output_type": "stream",
     "text": [
      "Requirement already satisfied: pandas in c:\\users\\goldf\\documents\\programming\\pycharmprojects\\venv\\lib\\site-packages (2.2.3)\n",
      "Requirement already satisfied: numpy in c:\\users\\goldf\\documents\\programming\\pycharmprojects\\venv\\lib\\site-packages (2.2.1)\n",
      "Requirement already satisfied: geopandas in c:\\users\\goldf\\documents\\programming\\pycharmprojects\\venv\\lib\\site-packages (1.0.1)\n",
      "Requirement already satisfied: seaborn in c:\\users\\goldf\\documents\\programming\\pycharmprojects\\venv\\lib\\site-packages (0.13.2)\n",
      "Requirement already satisfied: scikit-learn in c:\\users\\goldf\\documents\\programming\\pycharmprojects\\venv\\lib\\site-packages (1.6.1)\n",
      "Requirement already satisfied: tensor in c:\\users\\goldf\\documents\\programming\\pycharmprojects\\venv\\lib\\site-packages (0.3.6)\n",
      "Requirement already satisfied: folium in c:\\users\\goldf\\documents\\programming\\pycharmprojects\\venv\\lib\\site-packages (0.19.4)\n",
      "Requirement already satisfied: matplotlib in c:\\users\\goldf\\documents\\programming\\pycharmprojects\\venv\\lib\\site-packages (3.10.0)\n",
      "Requirement already satisfied: mapclassify in c:\\users\\goldf\\documents\\programming\\pycharmprojects\\venv\\lib\\site-packages (2.8.1)\n",
      "Requirement already satisfied: earthengine-api in c:\\users\\goldf\\documents\\programming\\pycharmprojects\\venv\\lib\\site-packages (1.4.5)\n",
      "Requirement already satisfied: geemap in c:\\users\\goldf\\documents\\programming\\pycharmprojects\\venv\\lib\\site-packages (0.35.1)\n",
      "Requirement already satisfied: python-dateutil>=2.8.2 in c:\\users\\goldf\\documents\\programming\\pycharmprojects\\venv\\lib\\site-packages (from pandas) (2.9.0.post0)\n",
      "Requirement already satisfied: pytz>=2020.1 in c:\\users\\goldf\\documents\\programming\\pycharmprojects\\venv\\lib\\site-packages (from pandas) (2024.2)\n",
      "Requirement already satisfied: tzdata>=2022.7 in c:\\users\\goldf\\documents\\programming\\pycharmprojects\\venv\\lib\\site-packages (from pandas) (2024.2)\n",
      "Requirement already satisfied: pyogrio>=0.7.2 in c:\\users\\goldf\\documents\\programming\\pycharmprojects\\venv\\lib\\site-packages (from geopandas) (0.10.0)\n",
      "Requirement already satisfied: packaging in c:\\users\\goldf\\documents\\programming\\pycharmprojects\\venv\\lib\\site-packages (from geopandas) (24.2)\n",
      "Requirement already satisfied: pyproj>=3.3.0 in c:\\users\\goldf\\documents\\programming\\pycharmprojects\\venv\\lib\\site-packages (from geopandas) (3.7.0)\n",
      "Requirement already satisfied: shapely>=2.0.0 in c:\\users\\goldf\\documents\\programming\\pycharmprojects\\venv\\lib\\site-packages (from geopandas) (2.0.6)\n",
      "Requirement already satisfied: scipy>=1.6.0 in c:\\users\\goldf\\documents\\programming\\pycharmprojects\\venv\\lib\\site-packages (from scikit-learn) (1.15.1)\n",
      "Requirement already satisfied: joblib>=1.2.0 in c:\\users\\goldf\\documents\\programming\\pycharmprojects\\venv\\lib\\site-packages (from scikit-learn) (1.4.2)\n",
      "Requirement already satisfied: threadpoolctl>=3.1.0 in c:\\users\\goldf\\documents\\programming\\pycharmprojects\\venv\\lib\\site-packages (from scikit-learn) (3.5.0)\n",
      "Requirement already satisfied: Twisted in c:\\users\\goldf\\documents\\programming\\pycharmprojects\\venv\\lib\\site-packages (from tensor) (24.11.0)\n",
      "Requirement already satisfied: PyYaml in c:\\users\\goldf\\documents\\programming\\pycharmprojects\\venv\\lib\\site-packages (from tensor) (6.0.2)\n",
      "Requirement already satisfied: protobuf in c:\\users\\goldf\\documents\\programming\\pycharmprojects\\venv\\lib\\site-packages (from tensor) (5.29.3)\n",
      "Requirement already satisfied: construct in c:\\users\\goldf\\documents\\programming\\pycharmprojects\\venv\\lib\\site-packages (from tensor) (2.10.70)\n",
      "Requirement already satisfied: pysnmp in c:\\users\\goldf\\documents\\programming\\pycharmprojects\\venv\\lib\\site-packages (from tensor) (7.1.16)\n",
      "Requirement already satisfied: branca>=0.6.0 in c:\\users\\goldf\\documents\\programming\\pycharmprojects\\venv\\lib\\site-packages (from folium) (0.8.1)\n",
      "Requirement already satisfied: jinja2>=2.9 in c:\\users\\goldf\\documents\\programming\\pycharmprojects\\venv\\lib\\site-packages (from folium) (3.1.5)\n",
      "Requirement already satisfied: requests in c:\\users\\goldf\\documents\\programming\\pycharmprojects\\venv\\lib\\site-packages (from folium) (2.32.3)\n",
      "Requirement already satisfied: xyzservices in c:\\users\\goldf\\documents\\programming\\pycharmprojects\\venv\\lib\\site-packages (from folium) (2024.9.0)\n",
      "Requirement already satisfied: contourpy>=1.0.1 in c:\\users\\goldf\\documents\\programming\\pycharmprojects\\venv\\lib\\site-packages (from matplotlib) (1.3.1)\n",
      "Requirement already satisfied: cycler>=0.10 in c:\\users\\goldf\\documents\\programming\\pycharmprojects\\venv\\lib\\site-packages (from matplotlib) (0.12.1)\n",
      "Requirement already satisfied: fonttools>=4.22.0 in c:\\users\\goldf\\documents\\programming\\pycharmprojects\\venv\\lib\\site-packages (from matplotlib) (4.55.3)\n",
      "Requirement already satisfied: kiwisolver>=1.3.1 in c:\\users\\goldf\\documents\\programming\\pycharmprojects\\venv\\lib\\site-packages (from matplotlib) (1.4.8)\n",
      "Requirement already satisfied: pillow>=8 in c:\\users\\goldf\\documents\\programming\\pycharmprojects\\venv\\lib\\site-packages (from matplotlib) (11.1.0)\n",
      "Requirement already satisfied: pyparsing>=2.3.1 in c:\\users\\goldf\\documents\\programming\\pycharmprojects\\venv\\lib\\site-packages (from matplotlib) (3.2.1)\n",
      "Requirement already satisfied: networkx>=2.7 in c:\\users\\goldf\\documents\\programming\\pycharmprojects\\venv\\lib\\site-packages (from mapclassify) (3.4.2)\n",
      "Requirement already satisfied: google-cloud-storage in c:\\users\\goldf\\documents\\programming\\pycharmprojects\\venv\\lib\\site-packages (from earthengine-api) (2.19.0)\n",
      "Requirement already satisfied: google-api-python-client>=1.12.1 in c:\\users\\goldf\\documents\\programming\\pycharmprojects\\venv\\lib\\site-packages (from earthengine-api) (2.159.0)\n",
      "Requirement already satisfied: google-auth>=1.4.1 in c:\\users\\goldf\\documents\\programming\\pycharmprojects\\venv\\lib\\site-packages (from earthengine-api) (2.37.0)\n",
      "Requirement already satisfied: google-auth-httplib2>=0.0.3 in c:\\users\\goldf\\documents\\programming\\pycharmprojects\\venv\\lib\\site-packages (from earthengine-api) (0.2.0)\n",
      "Requirement already satisfied: httplib2<1dev,>=0.9.2 in c:\\users\\goldf\\documents\\programming\\pycharmprojects\\venv\\lib\\site-packages (from earthengine-api) (0.22.0)\n",
      "Requirement already satisfied: bqplot in c:\\users\\goldf\\documents\\programming\\pycharmprojects\\venv\\lib\\site-packages (from geemap) (0.12.44)\n",
      "Requirement already satisfied: colour in c:\\users\\goldf\\documents\\programming\\pycharmprojects\\venv\\lib\\site-packages (from geemap) (0.1.5)\n",
      "Requirement already satisfied: eerepr>=0.0.4 in c:\\users\\goldf\\documents\\programming\\pycharmprojects\\venv\\lib\\site-packages (from geemap) (0.1.0)\n",
      "Requirement already satisfied: geocoder in c:\\users\\goldf\\documents\\programming\\pycharmprojects\\venv\\lib\\site-packages (from geemap) (1.38.1)\n",
      "Requirement already satisfied: ipyevents in c:\\users\\goldf\\documents\\programming\\pycharmprojects\\venv\\lib\\site-packages (from geemap) (2.0.2)\n",
      "Requirement already satisfied: ipyfilechooser>=0.6.0 in c:\\users\\goldf\\documents\\programming\\pycharmprojects\\venv\\lib\\site-packages (from geemap) (0.6.0)\n",
      "Requirement already satisfied: ipyleaflet>=0.19.2 in c:\\users\\goldf\\documents\\programming\\pycharmprojects\\venv\\lib\\site-packages (from geemap) (0.19.2)\n",
      "Requirement already satisfied: ipytree in c:\\users\\goldf\\documents\\programming\\pycharmprojects\\venv\\lib\\site-packages (from geemap) (0.2.2)\n",
      "Requirement already satisfied: plotly in c:\\users\\goldf\\documents\\programming\\pycharmprojects\\venv\\lib\\site-packages (from geemap) (5.24.1)\n",
      "Requirement already satisfied: pyperclip in c:\\users\\goldf\\documents\\programming\\pycharmprojects\\venv\\lib\\site-packages (from geemap) (1.9.0)\n",
      "Requirement already satisfied: pyshp>=2.3.1 in c:\\users\\goldf\\documents\\programming\\pycharmprojects\\venv\\lib\\site-packages (from geemap) (2.3.1)\n",
      "Requirement already satisfied: python-box in c:\\users\\goldf\\documents\\programming\\pycharmprojects\\venv\\lib\\site-packages (from geemap) (7.3.2)\n",
      "Requirement already satisfied: scooby in c:\\users\\goldf\\documents\\programming\\pycharmprojects\\venv\\lib\\site-packages (from geemap) (0.10.0)\n",
      "Requirement already satisfied: google-api-core!=2.0.*,!=2.1.*,!=2.2.*,!=2.3.0,<3.0.0.dev0,>=1.31.5 in c:\\users\\goldf\\documents\\programming\\pycharmprojects\\venv\\lib\\site-packages (from google-api-python-client>=1.12.1->earthengine-api) (2.24.0)\n",
      "Requirement already satisfied: uritemplate<5,>=3.0.1 in c:\\users\\goldf\\documents\\programming\\pycharmprojects\\venv\\lib\\site-packages (from google-api-python-client>=1.12.1->earthengine-api) (4.1.1)\n",
      "Requirement already satisfied: cachetools<6.0,>=2.0.0 in c:\\users\\goldf\\documents\\programming\\pycharmprojects\\venv\\lib\\site-packages (from google-auth>=1.4.1->earthengine-api) (5.5.0)\n",
      "Requirement already satisfied: pyasn1-modules>=0.2.1 in c:\\users\\goldf\\documents\\programming\\pycharmprojects\\venv\\lib\\site-packages (from google-auth>=1.4.1->earthengine-api) (0.4.1)\n",
      "Requirement already satisfied: rsa<5,>=3.1.4 in c:\\users\\goldf\\documents\\programming\\pycharmprojects\\venv\\lib\\site-packages (from google-auth>=1.4.1->earthengine-api) (4.9)\n",
      "Requirement already satisfied: ipywidgets in c:\\users\\goldf\\documents\\programming\\pycharmprojects\\venv\\lib\\site-packages (from ipyfilechooser>=0.6.0->geemap) (8.1.5)\n",
      "Requirement already satisfied: jupyter-leaflet<0.20,>=0.19 in c:\\users\\goldf\\documents\\programming\\pycharmprojects\\venv\\lib\\site-packages (from ipyleaflet>=0.19.2->geemap) (0.19.2)\n",
      "Requirement already satisfied: traittypes<3,>=0.2.1 in c:\\users\\goldf\\documents\\programming\\pycharmprojects\\venv\\lib\\site-packages (from ipyleaflet>=0.19.2->geemap) (0.2.1)\n",
      "Requirement already satisfied: MarkupSafe>=2.0 in c:\\users\\goldf\\documents\\programming\\pycharmprojects\\venv\\lib\\site-packages (from jinja2>=2.9->folium) (3.0.2)\n",
      "Requirement already satisfied: certifi in c:\\users\\goldf\\documents\\programming\\pycharmprojects\\venv\\lib\\site-packages (from pyogrio>=0.7.2->geopandas) (2024.12.14)\n",
      "Requirement already satisfied: six>=1.5 in c:\\users\\goldf\\documents\\programming\\pycharmprojects\\venv\\lib\\site-packages (from python-dateutil>=2.8.2->pandas) (1.17.0)\n",
      "Requirement already satisfied: traitlets>=4.3.0 in c:\\users\\goldf\\documents\\programming\\pycharmprojects\\venv\\lib\\site-packages (from bqplot->geemap) (5.14.3)\n",
      "Requirement already satisfied: click in c:\\users\\goldf\\documents\\programming\\pycharmprojects\\venv\\lib\\site-packages (from geocoder->geemap) (8.1.8)\n",
      "Requirement already satisfied: future in c:\\users\\goldf\\documents\\programming\\pycharmprojects\\venv\\lib\\site-packages (from geocoder->geemap) (1.0.0)\n",
      "Requirement already satisfied: ratelim in c:\\users\\goldf\\documents\\programming\\pycharmprojects\\venv\\lib\\site-packages (from geocoder->geemap) (0.1.6)\n",
      "Requirement already satisfied: google-cloud-core<3.0dev,>=2.3.0 in c:\\users\\goldf\\documents\\programming\\pycharmprojects\\venv\\lib\\site-packages (from google-cloud-storage->earthengine-api) (2.4.1)\n",
      "Requirement already satisfied: google-resumable-media>=2.7.2 in c:\\users\\goldf\\documents\\programming\\pycharmprojects\\venv\\lib\\site-packages (from google-cloud-storage->earthengine-api) (2.7.2)\n",
      "Requirement already satisfied: google-crc32c<2.0dev,>=1.0 in c:\\users\\goldf\\documents\\programming\\pycharmprojects\\venv\\lib\\site-packages (from google-cloud-storage->earthengine-api) (1.6.0)\n",
      "Requirement already satisfied: charset-normalizer<4,>=2 in c:\\users\\goldf\\documents\\programming\\pycharmprojects\\venv\\lib\\site-packages (from requests->folium) (3.4.1)\n",
      "Requirement already satisfied: idna<4,>=2.5 in c:\\users\\goldf\\documents\\programming\\pycharmprojects\\venv\\lib\\site-packages (from requests->folium) (3.10)\n",
      "Requirement already satisfied: urllib3<3,>=1.21.1 in c:\\users\\goldf\\documents\\programming\\pycharmprojects\\venv\\lib\\site-packages (from requests->folium) (2.3.0)\n",
      "Requirement already satisfied: tenacity>=6.2.0 in c:\\users\\goldf\\documents\\programming\\pycharmprojects\\venv\\lib\\site-packages (from plotly->geemap) (9.0.0)\n",
      "Requirement already satisfied: pyasn1!=0.5.0,>=0.4.8 in c:\\users\\goldf\\documents\\programming\\pycharmprojects\\venv\\lib\\site-packages (from pysnmp->tensor) (0.6.1)\n",
      "Requirement already satisfied: attrs>=22.2.0 in c:\\users\\goldf\\documents\\programming\\pycharmprojects\\venv\\lib\\site-packages (from Twisted->tensor) (24.3.0)\n",
      "Requirement already satisfied: automat>=24.8.0 in c:\\users\\goldf\\documents\\programming\\pycharmprojects\\venv\\lib\\site-packages (from Twisted->tensor) (24.8.1)\n",
      "Requirement already satisfied: constantly>=15.1 in c:\\users\\goldf\\documents\\programming\\pycharmprojects\\venv\\lib\\site-packages (from Twisted->tensor) (23.10.4)\n",
      "Requirement already satisfied: hyperlink>=17.1.1 in c:\\users\\goldf\\documents\\programming\\pycharmprojects\\venv\\lib\\site-packages (from Twisted->tensor) (21.0.0)\n",
      "Requirement already satisfied: incremental>=24.7.0 in c:\\users\\goldf\\documents\\programming\\pycharmprojects\\venv\\lib\\site-packages (from Twisted->tensor) (24.7.2)\n",
      "Requirement already satisfied: typing-extensions>=4.2.0 in c:\\users\\goldf\\documents\\programming\\pycharmprojects\\venv\\lib\\site-packages (from Twisted->tensor) (4.12.2)\n",
      "Requirement already satisfied: zope-interface>=5 in c:\\users\\goldf\\documents\\programming\\pycharmprojects\\venv\\lib\\site-packages (from Twisted->tensor) (7.2)\n",
      "Requirement already satisfied: googleapis-common-protos<2.0.dev0,>=1.56.2 in c:\\users\\goldf\\documents\\programming\\pycharmprojects\\venv\\lib\\site-packages (from google-api-core!=2.0.*,!=2.1.*,!=2.2.*,!=2.3.0,<3.0.0.dev0,>=1.31.5->google-api-python-client>=1.12.1->earthengine-api) (1.66.0)\n",
      "Requirement already satisfied: proto-plus<2.0.0dev,>=1.22.3 in c:\\users\\goldf\\documents\\programming\\pycharmprojects\\venv\\lib\\site-packages (from google-api-core!=2.0.*,!=2.1.*,!=2.2.*,!=2.3.0,<3.0.0.dev0,>=1.31.5->google-api-python-client>=1.12.1->earthengine-api) (1.25.0)\n",
      "Requirement already satisfied: setuptools>=61.0 in c:\\users\\goldf\\documents\\programming\\pycharmprojects\\venv\\lib\\site-packages (from incremental>=24.7.0->Twisted->tensor) (75.8.0)\n",
      "Requirement already satisfied: comm>=0.1.3 in c:\\users\\goldf\\documents\\programming\\pycharmprojects\\venv\\lib\\site-packages (from ipywidgets->ipyfilechooser>=0.6.0->geemap) (0.2.2)\n",
      "Requirement already satisfied: ipython>=6.1.0 in c:\\users\\goldf\\documents\\programming\\pycharmprojects\\venv\\lib\\site-packages (from ipywidgets->ipyfilechooser>=0.6.0->geemap) (8.31.0)\n",
      "Requirement already satisfied: widgetsnbextension~=4.0.12 in c:\\users\\goldf\\documents\\programming\\pycharmprojects\\venv\\lib\\site-packages (from ipywidgets->ipyfilechooser>=0.6.0->geemap) (4.0.13)\n",
      "Requirement already satisfied: jupyterlab-widgets~=3.0.12 in c:\\users\\goldf\\documents\\programming\\pycharmprojects\\venv\\lib\\site-packages (from ipywidgets->ipyfilechooser>=0.6.0->geemap) (3.0.13)\n",
      "Requirement already satisfied: colorama in c:\\users\\goldf\\documents\\programming\\pycharmprojects\\venv\\lib\\site-packages (from click->geocoder->geemap) (0.4.6)\n",
      "Requirement already satisfied: decorator in c:\\users\\goldf\\documents\\programming\\pycharmprojects\\venv\\lib\\site-packages (from ratelim->geocoder->geemap) (5.1.1)\n",
      "Requirement already satisfied: jedi>=0.16 in c:\\users\\goldf\\documents\\programming\\pycharmprojects\\venv\\lib\\site-packages (from ipython>=6.1.0->ipywidgets->ipyfilechooser>=0.6.0->geemap) (0.19.2)\n",
      "Requirement already satisfied: matplotlib-inline in c:\\users\\goldf\\documents\\programming\\pycharmprojects\\venv\\lib\\site-packages (from ipython>=6.1.0->ipywidgets->ipyfilechooser>=0.6.0->geemap) (0.1.7)\n",
      "Requirement already satisfied: prompt_toolkit<3.1.0,>=3.0.41 in c:\\users\\goldf\\documents\\programming\\pycharmprojects\\venv\\lib\\site-packages (from ipython>=6.1.0->ipywidgets->ipyfilechooser>=0.6.0->geemap) (3.0.48)\n",
      "Requirement already satisfied: pygments>=2.4.0 in c:\\users\\goldf\\documents\\programming\\pycharmprojects\\venv\\lib\\site-packages (from ipython>=6.1.0->ipywidgets->ipyfilechooser>=0.6.0->geemap) (2.19.1)\n",
      "Requirement already satisfied: stack_data in c:\\users\\goldf\\documents\\programming\\pycharmprojects\\venv\\lib\\site-packages (from ipython>=6.1.0->ipywidgets->ipyfilechooser>=0.6.0->geemap) (0.6.3)\n",
      "Requirement already satisfied: parso<0.9.0,>=0.8.4 in c:\\users\\goldf\\documents\\programming\\pycharmprojects\\venv\\lib\\site-packages (from jedi>=0.16->ipython>=6.1.0->ipywidgets->ipyfilechooser>=0.6.0->geemap) (0.8.4)\n",
      "Requirement already satisfied: wcwidth in c:\\users\\goldf\\documents\\programming\\pycharmprojects\\venv\\lib\\site-packages (from prompt_toolkit<3.1.0,>=3.0.41->ipython>=6.1.0->ipywidgets->ipyfilechooser>=0.6.0->geemap) (0.2.13)\n",
      "Requirement already satisfied: executing>=1.2.0 in c:\\users\\goldf\\documents\\programming\\pycharmprojects\\venv\\lib\\site-packages (from stack_data->ipython>=6.1.0->ipywidgets->ipyfilechooser>=0.6.0->geemap) (2.1.0)\n",
      "Requirement already satisfied: asttokens>=2.1.0 in c:\\users\\goldf\\documents\\programming\\pycharmprojects\\venv\\lib\\site-packages (from stack_data->ipython>=6.1.0->ipywidgets->ipyfilechooser>=0.6.0->geemap) (3.0.0)\n",
      "Requirement already satisfied: pure-eval in c:\\users\\goldf\\documents\\programming\\pycharmprojects\\venv\\lib\\site-packages (from stack_data->ipython>=6.1.0->ipywidgets->ipyfilechooser>=0.6.0->geemap) (0.2.3)\n"
     ]
    }
   ],
   "source": [
    "!pip install pandas numpy geopandas seaborn scikit-learn tensor folium folium matplotlib mapclassify earthengine-api geemap"
   ]
  },
  {
   "cell_type": "code",
   "execution_count": null,
   "metadata": {},
   "outputs": [],
   "source": [
    "from geopandas import GeoDataFrame\n",
    "from shapely.geometry import Point\n",
    "import geopandas as gpd\n",
    "import pandas as pd\n",
    "import numpy as np\n",
    "import pprint\n",
    "import geemap\n",
    "import ee\n",
    "import folium"
   ]
  },
  {
   "cell_type": "markdown",
   "metadata": {},
   "source": [
    "### Section 1.2 - Importing our Dataset"
   ]
  },
  {
   "cell_type": "code",
   "execution_count": null,
   "metadata": {},
   "outputs": [
    {
     "data": {
      "text/html": [
       "\n",
       "            <style>\n",
       "                .geemap-dark {\n",
       "                    --jp-widgets-color: white;\n",
       "                    --jp-widgets-label-color: white;\n",
       "                    --jp-ui-font-color1: white;\n",
       "                    --jp-layout-color2: #454545;\n",
       "                    background-color: #383838;\n",
       "                }\n",
       "\n",
       "                .geemap-dark .jupyter-button {\n",
       "                    --jp-layout-color3: #383838;\n",
       "                }\n",
       "\n",
       "                .geemap-colab {\n",
       "                    background-color: var(--colab-primary-surface-color, white);\n",
       "                }\n",
       "\n",
       "                .geemap-colab .jupyter-button {\n",
       "                    --jp-layout-color3: var(--colab-primary-surface-color, white);\n",
       "                }\n",
       "            </style>\n",
       "            "
      ],
      "text/plain": [
       "<IPython.core.display.HTML object>"
      ]
     },
     "metadata": {},
     "output_type": "display_data"
    },
    {
     "data": {
      "text/plain": [
       "<Geographic 2D CRS: EPSG:4326>\n",
       "Name: WGS 84\n",
       "Axis Info [ellipsoidal]:\n",
       "- Lat[north]: Geodetic latitude (degree)\n",
       "- Lon[east]: Geodetic longitude (degree)\n",
       "Area of Use:\n",
       "- name: World.\n",
       "- bounds: (-180.0, -90.0, 180.0, 90.0)\n",
       "Datum: World Geodetic System 1984 ensemble\n",
       "- Ellipsoid: WGS 84\n",
       "- Prime Meridian: Greenwich"
      ]
     },
     "metadata": {},
     "output_type": "display_data"
    },
    {
     "data": {
      "text/plain": [
       "Index(['Source.Nam', 'plotid', 'sampleid', 'lon', 'lat', 'sample_geo', 'Uso',\n",
       "       'Cobertura', 'Vegetacion', 'Herbaceas', 'Pasto_Arb', 'Cultivo',\n",
       "       'Humedal', 'Terreno', 'Agua', 'Otra_clase', 'SAF', 'Cambios15_',\n",
       "       'Gana_Perdi', 'geometry'],\n",
       "      dtype='object')"
      ]
     },
     "metadata": {},
     "output_type": "display_data"
    }
   ],
   "source": [
    "# We are importing the observational data from the ZIP file provided (which contains the shape file) into a GeoDataFrame\n",
    "gdf = gpd.read_file('Costa Rican Data/Classification_Plots.zip')\n",
    "\n",
    "# These display information about the GeoDataFrame to confirm the contains are what we expected\n",
    "display(gdf.crs)\n",
    "display(gdf.columns)"
   ]
  }
 ],
 "metadata": {
  "language_info": {
   "name": "python"
  }
 },
 "nbformat": 4,
 "nbformat_minor": 2
}
